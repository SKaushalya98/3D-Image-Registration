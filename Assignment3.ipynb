{
 "cells": [
  {
   "cell_type": "markdown",
   "metadata": {},
   "source": [
    "# 3D Image Registration"
   ]
  },
  {
   "cell_type": "markdown",
   "metadata": {},
   "source": [
    "## Import required packages"
   ]
  },
  {
   "cell_type": "code",
   "execution_count": 2,
   "metadata": {},
   "outputs": [],
   "source": [
    "import itk\n",
    "from itkwidgets import view \n",
    "from itkwidgets import compare, checkerboard"
   ]
  },
  {
   "cell_type": "markdown",
   "metadata": {},
   "source": [
    "## Load fixed and moving volume"
   ]
  },
  {
   "cell_type": "code",
   "execution_count": 3,
   "metadata": {},
   "outputs": [],
   "source": [
    "\n",
    "fixed_image_filename=\"VF-MRT1-1014-1174.vtk\"\n",
    "moving_image_filename=\"VF-MRT2-1014-1174.vtk\"\n",
    "fixed_image = itk.imread(fixed_image_filename, itk.F)\n",
    "moving_image = itk.imread(moving_image_filename, itk.F)"
   ]
  },
  {
   "cell_type": "markdown",
   "metadata": {},
   "source": [
    "## Visualize input images "
   ]
  },
  {
   "cell_type": "code",
   "execution_count": 156,
   "metadata": {},
   "outputs": [
    {
     "data": {
      "application/vnd.jupyter.widget-view+json": {
       "model_id": "7b6074259e704302a64d243226ab204f",
       "version_major": 2,
       "version_minor": 0
      },
      "text/plain": [
       "Viewer(geometries=[], gradient_opacity=0.22, point_sets=[], rendered_image=<itk.itkImagePython.itkImageF3; pro…"
      ]
     },
     "metadata": {},
     "output_type": "display_data"
    }
   ],
   "source": [
    "view(fixed_image)"
   ]
  },
  {
   "cell_type": "code",
   "execution_count": 157,
   "metadata": {},
   "outputs": [
    {
     "data": {
      "application/vnd.jupyter.widget-view+json": {
       "model_id": "75bdc40baf314ffeb49f0d8438a45011",
       "version_major": 2,
       "version_minor": 0
      },
      "text/plain": [
       "Viewer(geometries=[], gradient_opacity=0.22, point_sets=[], rendered_image=<itk.itkImagePython.itkImageF3; pro…"
      ]
     },
     "metadata": {},
     "output_type": "display_data"
    }
   ],
   "source": [
    "view(moving_image)"
   ]
  },
  {
   "cell_type": "code",
   "execution_count": 158,
   "metadata": {},
   "outputs": [
    {
     "data": {
      "application/vnd.jupyter.widget-view+json": {
       "model_id": "87bf36fc23ff43f39fd79b3c7ca40ffc",
       "version_major": 2,
       "version_minor": 0
      },
      "text/plain": [
       "VBox(children=(Viewer(annotations=False, interpolation=False, rendered_image=<itk.itkImagePython.itkImageF3; p…"
      ]
     },
     "metadata": {},
     "output_type": "display_data"
    }
   ],
   "source": [
    "checkerboard(fixed_image, moving_image)"
   ]
  },
  {
   "cell_type": "code",
   "execution_count": 159,
   "metadata": {},
   "outputs": [
    {
     "data": {
      "application/vnd.jupyter.widget-view+json": {
       "model_id": "dcac05847e944698bde14a9280169641",
       "version_major": 2,
       "version_minor": 0
      },
      "text/plain": [
       "AppLayout(children=(HBox(children=(Label(value='Link:'), Checkbox(value=False, description='cmap'), Checkbox(v…"
      ]
     },
     "metadata": {},
     "output_type": "display_data"
    }
   ],
   "source": [
    "compare(fixed_image, moving_image)"
   ]
  },
  {
   "cell_type": "code",
   "execution_count": 4,
   "metadata": {},
   "outputs": [],
   "source": [
    "%matplotlib inline\n",
    "import matplotlib.pyplot as plt\n",
    "\n",
    "from ipywidgets import interact, fixed\n",
    "from IPython.display import clear_output\n",
    "\n",
    "# Callback invoked by the interact IPython method for scrolling through the image stacks of\n",
    "# the two images (moving and fixed).\n",
    "def display_images(fixed_image_z, moving_image_z, fixed_npa, moving_npa):\n",
    "    # Create a figure with two subplots and the specified size.\n",
    "    plt.subplots(1, 2, figsize=(10, 8))\n",
    "\n",
    "    # Draw the fixed image in the first subplot.\n",
    "    plt.subplot(1, 2, 1)\n",
    "    plt.imshow(fixed_npa[fixed_image_z, :, :], cmap=plt.cm.Greys_r)\n",
    "    plt.title(\"fixed image\")\n",
    "    plt.axis(\"off\")\n",
    "\n",
    "    # Draw the moving image in the second subplot.\n",
    "    plt.subplot(1, 2, 2)\n",
    "    plt.imshow(moving_npa[moving_image_z, :, :], cmap=plt.cm.Greys_r)\n",
    "    plt.title(\"moving image resampled\")\n",
    "    plt.axis(\"off\")\n",
    "\n",
    "    plt.show()\n",
    "\n",
    "\n",
    "# Callback invoked by the IPython interact method for scrolling and modifying the alpha blending\n",
    "# of an image stack of two images that occupy the same physical space.\n",
    "def display_images_with_alpha(image_z, alpha, fixed, moving):\n",
    "    img = (1.0 - alpha) * fixed[:, :, image_z] + alpha * moving[:, :, image_z]\n",
    "    \n",
    "    plt.imshow(itk.GetImageFromArray(img), cmap=plt.cm.Greys_r)\n",
    "    plt.axis(\"off\")\n",
    "    plt.show()\n",
    "\n",
    "\n",
    "# Callback invoked when the StartEvent happens, sets up our new data.\n",
    "def start_plot():\n",
    "    global metric_values, multires_iterations\n",
    "\n",
    "    metric_values = []\n",
    "    multires_iterations = []\n",
    "\n",
    "\n",
    "# Callback invoked when the EndEvent happens, do cleanup of data and figure.\n",
    "def end_plot():\n",
    "    global metric_values, multires_iterations\n",
    "\n",
    "    del metric_values\n",
    "    del multires_iterations\n",
    "    # Close figure, we don't want to get a duplicate of the plot latter on.\n",
    "    plt.close()\n",
    "\n",
    "\n",
    "# Callback invoked when the IterationEvent happens, update our data and display new figure.\n",
    "def plot_values(registration_method):\n",
    "    global metric_values, multires_iterations\n",
    "\n",
    "    metric_values.append(registration_method.GetMetricValue())\n",
    "    # Clear the output area (wait=True, to reduce flickering), and plot current data\n",
    "    clear_output(wait=True)\n",
    "    # Plot the similarity metric values\n",
    "    plt.plot(metric_values, \"r\")\n",
    "    plt.plot(\n",
    "        multires_iterations,\n",
    "        [metric_values[index] for index in multires_iterations],\n",
    "        \"b*\",\n",
    "    )\n",
    "    plt.xlabel(\"Iteration Number\", fontsize=12)\n",
    "    plt.ylabel(\"Metric Value\", fontsize=12)\n",
    "    plt.show()\n",
    "\n",
    "\n",
    "# Callback invoked when the sitkMultiResolutionIterationEvent happens, update the index into the\n",
    "# metric_values list.\n",
    "def update_multires_iterations():\n",
    "    global metric_values, multires_iterations\n",
    "    multires_iterations.append(len(metric_values))"
   ]
  },
  {
   "cell_type": "code",
   "execution_count": 5,
   "metadata": {},
   "outputs": [
    {
     "data": {
      "application/vnd.jupyter.widget-view+json": {
       "model_id": "cb254d723b5142298ea06af65b4ce447",
       "version_major": 2,
       "version_minor": 0
      },
      "text/plain": [
       "interactive(children=(IntSlider(value=16, description='fixed_image_z', max=32), IntSlider(value=31, descriptio…"
      ]
     },
     "metadata": {},
     "output_type": "display_data"
    }
   ],
   "source": [
    "\n",
    "interact(\n",
    "    display_images,\n",
    "    fixed_image_z=(0, itk.size(fixed_image)[2] - 1),\n",
    "    moving_image_z=(0, itk.size(moving_image)[2] - 1),\n",
    "    fixed_npa=fixed(itk.GetArrayFromImage(fixed_image)),\n",
    "    moving_npa=fixed(itk.GetArrayFromImage(moving_image)),\n",
    ");"
   ]
  },
  {
   "cell_type": "markdown",
   "metadata": {},
   "source": [
    "## Initialize parameters and perform image registration"
   ]
  },
  {
   "cell_type": "code",
   "execution_count": 6,
   "metadata": {},
   "outputs": [],
   "source": [
    "\n",
    "Dimension = 3\n",
    "PixelType = itk.F\n",
    "\n",
    "ImageType = itk.Image[PixelType, Dimension]\n",
    "TransformType = itk.TranslationTransform[itk.D, Dimension]\n",
    "OptimizerType = itk.RegularStepGradientDescentOptimizer\n",
    "#MetricType = itk.MeanSquaresImageToImageMetric[ImageType, ImageType]\n",
    "MetricType = itk.MattesMutualInformationImageToImageMetric[ImageType, ImageType]\n",
    "InterpolatorType = itk.NearestNeighborInterpolateImageFunction[ImageType, itk.D]\n",
    "RegistrationType = itk.ImageRegistrationMethod[ImageType, ImageType]\n",
    "\n",
    "FixedImageType = ImageType\n",
    "MovingImageType = ImageType"
   ]
  },
  {
   "cell_type": "code",
   "execution_count": 7,
   "metadata": {},
   "outputs": [],
   "source": [
    "metric = MetricType.New()\n",
    "transform = TransformType.New()\n",
    "optimizer = OptimizerType.New()\n",
    "interpolator = InterpolatorType.New()\n",
    "registration = RegistrationType.New()"
   ]
  },
  {
   "cell_type": "code",
   "execution_count": 8,
   "metadata": {},
   "outputs": [],
   "source": [
    "registration.SetFixedImage(fixed_image)\n",
    "registration.SetMovingImage(moving_image)\n",
    "registration.SetMetric(metric)\n",
    "registration.SetOptimizer(optimizer)\n",
    "registration.SetTransform(transform)\n",
    "registration.SetInterpolator(interpolator)\n",
    "registration.SetFixedImageRegion(fixed_image.GetLargestPossibleRegion())\n",
    "registration.SetInitialTransformParameters(transform.GetParameters())"
   ]
  },
  {
   "cell_type": "code",
   "execution_count": 9,
   "metadata": {},
   "outputs": [
    {
     "name": "stdout",
     "output_type": "stream",
     "text": [
      "Result = \n",
      " Translation X =  -0.296669490292377\n",
      " Translation Y =  -8.196658153847325\n",
      " Translation Z =  -2.4992790081625036\n",
      " Iterations    =  22\n",
      " Metric value  =  -0.7161121058731182\n"
     ]
    }
   ],
   "source": [
    "optimizer.SetMaximumStepLength(4.00)\n",
    "optimizer.SetMinimumStepLength(0.001)\n",
    "optimizer.SetNumberOfIterations(200)\n",
    "\n",
    "optimizer.SetRelaxationFactor(0.5)\n",
    "\n",
    "registration.Update()\n",
    "\n",
    "finalParameters = registration.GetLastTransformParameters()\n",
    "TranslationAlongX = finalParameters[0]\n",
    "TranslationAlongY = finalParameters[1]\n",
    "TranslationAlongZ = finalParameters[2]\n",
    "numberOfIterations = optimizer.GetCurrentIteration()\n",
    "bestValue = optimizer.GetValue()\n",
    "\n",
    "print(\"Result = \") \n",
    "print(\" Translation X = \" , TranslationAlongX)\n",
    "print(\" Translation Y = \" , TranslationAlongY)\n",
    "print(\" Translation Z = \" , TranslationAlongZ)\n",
    "print(\" Iterations    = \" ,numberOfIterations)\n",
    "print(\" Metric value  = \" ,bestValue)\n"
   ]
  },
  {
   "cell_type": "markdown",
   "metadata": {},
   "source": [
    "## Resample moving image "
   ]
  },
  {
   "cell_type": "code",
   "execution_count": 10,
   "metadata": {},
   "outputs": [],
   "source": [
    "ResampleFilterType = itk.ResampleImageFilter[ImageType, ImageType]\n",
    "resampler = ResampleFilterType.New()\n",
    "resampler.SetInput(moving_image)\n",
    "resampler.SetTransform(registration.GetOutput().Get())\n",
    "resampler.SetSize(fixed_image.GetLargestPossibleRegion().GetSize())\n",
    "resampler.SetOutputOrigin(fixed_image.GetOrigin())\n",
    "resampler.SetOutputSpacing(fixed_image.GetSpacing())\n",
    "resampler.SetOutputDirection(fixed_image.GetDirection())\n",
    "resampler.SetDefaultPixelValue(100)\n",
    "resampler.SetInterpolator(interpolator)\n",
    "resampler.Update()"
   ]
  },
  {
   "cell_type": "markdown",
   "metadata": {},
   "source": [
    "## Image registration results "
   ]
  },
  {
   "cell_type": "code",
   "execution_count": 11,
   "metadata": {},
   "outputs": [
    {
     "data": {
      "application/vnd.jupyter.widget-view+json": {
       "model_id": "8d914d568f8f4766868e45bfb662a577",
       "version_major": 2,
       "version_minor": 0
      },
      "text/plain": [
       "interactive(children=(IntSlider(value=16, description='fixed_image_z', max=32), IntSlider(value=16, descriptio…"
      ]
     },
     "metadata": {},
     "output_type": "display_data"
    }
   ],
   "source": [
    "interact(\n",
    "    display_images,\n",
    "    fixed_image_z=(0, itk.size(fixed_image)[2] - 1),\n",
    "    moving_image_z=(0, itk.size(resampler.GetOutput())[2] - 1),\n",
    "    fixed_npa=fixed(itk.GetArrayFromImage(fixed_image)),\n",
    "    moving_npa=fixed(itk.GetArrayFromImage(resampler.GetOutput())),\n",
    ");"
   ]
  },
  {
   "cell_type": "code",
   "execution_count": 12,
   "metadata": {},
   "outputs": [
    {
     "name": "stdout",
     "output_type": "stream",
     "text": [
      "TranslationTransform (000001D5EB3D0B70)\n",
      "  RTTI typeinfo:   class itk::TranslationTransform<double,3>\n",
      "  Reference Count: 6\n",
      "  Modified Time: 594\n",
      "  Debug: Off\n",
      "  Object Name: \n",
      "  Observers: \n",
      "    none\n",
      "  Offset: [-0.296669, -8.19666, -2.49928]\n",
      "\n"
     ]
    }
   ],
   "source": [
    "final_transform=registration.GetTransform()\n",
    "print(final_transform)"
   ]
  },
  {
   "cell_type": "markdown",
   "metadata": {},
   "source": [
    "## Save results"
   ]
  },
  {
   "cell_type": "code",
   "execution_count": 13,
   "metadata": {},
   "outputs": [],
   "source": [
    "itk.imwrite(resampler.GetOutput(),'moving_resampled_itk_MMI.mha')"
   ]
  },
  {
   "cell_type": "code",
   "execution_count": 14,
   "metadata": {},
   "outputs": [],
   "source": [
    "writer = itk.TransformFileWriterTemplate[itk.F].New()\n",
    "transform_filename = 'Transform_between_T1_T2_MRI.tfm'\n",
    "writer.SetInput(final_transform)\n",
    "writer.SetFileName(transform_filename)\n",
    "writer.Update()"
   ]
  },
  {
   "cell_type": "code",
   "execution_count": null,
   "metadata": {},
   "outputs": [],
   "source": []
  }
 ],
 "metadata": {
  "interpreter": {
   "hash": "5e3b613d5d014d3f15c3d1572198267c9362fab95be2af24b0935ab2c7bb0487"
  },
  "kernelspec": {
   "display_name": "Python 3.8.8 ('base')",
   "language": "python",
   "name": "python3"
  },
  "language_info": {
   "codemirror_mode": {
    "name": "ipython",
    "version": 3
   },
   "file_extension": ".py",
   "mimetype": "text/x-python",
   "name": "python",
   "nbconvert_exporter": "python",
   "pygments_lexer": "ipython3",
   "version": "3.8.8"
  },
  "orig_nbformat": 4
 },
 "nbformat": 4,
 "nbformat_minor": 2
}
